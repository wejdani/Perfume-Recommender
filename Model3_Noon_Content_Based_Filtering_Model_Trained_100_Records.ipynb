{
 "cells": [
  {
   "cell_type": "markdown",
   "id": "a1b17359",
   "metadata": {},
   "source": [
    "<img align=\"right\" width=\"200\" height=\"200\" src=\"https://static.wikia.nocookie.net/lego/images/2/23/PPG_logo.png\"> \n",
    "\n",
    "# <span style=\"color:#EF7C8E\">Noon Perfume Model - Capstone Project - Building a content based filtering Model </span>\n",
    " \n",
    "\n",
    "\n",
    "## <span style=\"color:#55BB99\"> Group: Power Puff Girls</span>\n",
    "### <span style=\"color:#726060\"> Members: Wejdan Al-Ahmadi - Sara Aldubaie</span>\n",
    "<hr style=\"border:2px solid gray\"> </hr>"
   ]
  },
  {
   "cell_type": "markdown",
   "id": "d50b6414",
   "metadata": {},
   "source": [
    "## * NOTE:* The models in this notebook were trained on a random 100 sampling of data points (100 records)"
   ]
  },
  {
   "cell_type": "code",
   "execution_count": 1,
   "id": "365a96b1",
   "metadata": {},
   "outputs": [],
   "source": [
    "#pip install autocorrect==2.4.0"
   ]
  },
  {
   "cell_type": "code",
   "execution_count": 2,
   "id": "540e7b82",
   "metadata": {},
   "outputs": [],
   "source": [
    "#pip install fuzzywuzzy"
   ]
  },
  {
   "cell_type": "code",
   "execution_count": 3,
   "id": "cb610090",
   "metadata": {},
   "outputs": [],
   "source": [
    "#pip install python-Levenshtein"
   ]
  },
  {
   "cell_type": "code",
   "execution_count": 4,
   "id": "32b28d53",
   "metadata": {},
   "outputs": [],
   "source": [
    "#pip install recmetrics"
   ]
  },
  {
   "cell_type": "code",
   "execution_count": 5,
   "id": "680d391b",
   "metadata": {
    "scrolled": true
   },
   "outputs": [],
   "source": [
    "#pip install funcsigs"
   ]
  },
  {
   "cell_type": "code",
   "execution_count": 6,
   "id": "96312514",
   "metadata": {},
   "outputs": [],
   "source": [
    "#pip install recmetrics==0.0.12\n",
    "# note i got an error while loading this library and the fix i found was you need to manually change the import \n",
    "# in the 'plot.py' file Instead of 'from sklearn.utils.fixes import signature' use 'from funcsigs import signature'"
   ]
  },
  {
   "cell_type": "code",
   "execution_count": 7,
   "id": "ca753164",
   "metadata": {},
   "outputs": [],
   "source": [
    "import numpy as np\n",
    "import pandas as pd\n",
    "import sklearn\n",
    "import matplotlib.pyplot as plt\n",
    "import seaborn as sns\n",
    "import re\n",
    "import warnings\n",
    "import recmetrics\n",
    "\n",
    "warnings.simplefilter(action='ignore', category=FutureWarning)"
   ]
  },
  {
   "cell_type": "markdown",
   "id": "ec20c26d",
   "metadata": {},
   "source": [
    "## Cos Sim model"
   ]
  },
  {
   "cell_type": "code",
   "execution_count": 8,
   "id": "a310cc63",
   "metadata": {},
   "outputs": [],
   "source": [
    "# data import\n",
    "noon_clean = pd.read_csv('./data/noon_clean_Model.csv')\n",
    "# filling NA's with empty string\n",
    "noon_clean=noon_clean.fillna('')"
   ]
  },
  {
   "cell_type": "code",
   "execution_count": 9,
   "id": "9fe18282",
   "metadata": {},
   "outputs": [],
   "source": [
    "import random\n",
    "for i in noon_clean.index:\n",
    "    if (noon_clean.at[i, 'Scents/Notes']==\"Floral\"):\n",
    "        noon_clean.at[i, 'Popularity'] = random.randrange(1650, 1800, 10)\n",
    "        \n",
    "    elif(noon_clean.at[i, 'Scents/Notes']==\"Woody\"):\n",
    "        noon_clean.at[i, 'Popularity'] = random.randrange(1550, 1700, 10)  \n",
    "        \n",
    "    elif(noon_clean.at[i, 'Scents/Notes']==\"Fresh\"):\n",
    "        noon_clean.at[i, 'Popularity'] = random.randrange(1450, 1600, 10)\n",
    "        \n",
    "    elif(noon_clean.at[i, 'Scents/Notes']==\"Oriental\"):\n",
    "        noon_clean.at[i, 'Popularity'] = random.randrange(1350, 1500, 10)\n",
    "        \n",
    "    elif(noon_clean.at[i, 'Scents/Notes']==\"Fruity\"):\n",
    "        noon_clean.at[i, 'Popularity'] = random.randrange(1250, 1400, 10) \n",
    "        \n",
    "    elif(noon_clean.at[i, 'Scents/Notes']==\"Arabian\"):\n",
    "        noon_clean.at[i, 'Popularity'] = random.randrange(1150, 1300, 10) \n",
    "        \n",
    "    elif(noon_clean.at[i, 'Scents/Notes']==\"Spicy\"):\n",
    "        noon_clean.at[i, 'Popularity'] = random.randrange(1050, 1200, 10)\n",
    "        \n",
    "    elif(noon_clean.at[i, 'Scents/Notes']==\"Citrus\"):\n",
    "        noon_clean.at[i, 'Popularity'] = random.randrange(950, 1100, 10) \n",
    "        \n",
    "    elif(noon_clean.at[i, 'Scents/Notes']==\"Aromatic\"):\n",
    "        noon_clean.at[i, 'Popularity'] = random.randrange(850, 1000, 10)\n",
    "        \n",
    "    elif(noon_clean.at[i, 'Scents/Notes']==\"Vanilla\"):\n",
    "        noon_clean.at[i, 'Popularity'] = random.randrange(750, 900, 10)\n",
    "        \n",
    "    elif(noon_clean.at[i, 'Scents/Notes']==\"Musk\"):\n",
    "        noon_clean.at[i, 'Popularity'] = random.randrange(650, 800, 10)\n",
    "        \n",
    "    elif(noon_clean.at[i, 'Scents/Notes']==\"Sweet\"):\n",
    "        noon_clean.at[i, 'Popularity'] = random.randrange(550, 700, 10)\n",
    "        \n",
    "    elif(noon_clean.at[i, 'Scents/Notes']==\"Jasmine\"):\n",
    "        noon_clean.at[i, 'Popularity'] = random.randrange(450, 600, 10)     \n",
    "        \n",
    "    elif(noon_clean.at[i, 'Scents/Notes']==\"Sandalwood\"):\n",
    "        noon_clean.at[i, 'Popularity'] = random.randrange(350, 500, 10)\n",
    "        \n",
    "    elif(noon_clean.at[i, 'Scents/Notes']==\"Clean\"):\n",
    "        noon_clean.at[i, 'Popularity'] = random.randrange(250, 400, 10)   \n",
    "noon_clean.Popularity=noon_clean.Popularity.astype(str)\n"
   ]
  },
  {
   "cell_type": "code",
   "execution_count": 10,
   "id": "f14c151b",
   "metadata": {},
   "outputs": [],
   "source": [
    "# get copy to work with cos sim and binary matrix \n",
    "noon_bin = noon_clean.copy()\n",
    "# applying the split by ',' to the base note column\n",
    "noon_bin['Base Note']=noon_bin['Base Note'].apply(lambda x: x.split(\",\"))\n",
    "noon_bin['Heart/Middle Note']=noon_bin['Heart/Middle Note'].apply(lambda x: x.split(\",\"))\n",
    "noon_bin['Top Note']=noon_bin['Top Note'].apply(lambda x: x.split(\",\"))\n",
    "#noon_bin.head()"
   ]
  },
  {
   "cell_type": "code",
   "execution_count": 11,
   "id": "e0c22ba2",
   "metadata": {
    "scrolled": true
   },
   "outputs": [
    {
     "name": "stdout",
     "output_type": "stream",
     "text": [
      "There are 1204 Top note labels.\n",
      "There are 1750 Heart/Middle note labels.\n",
      "There are 1394 base note labels.\n",
      "Example of base notes counter: [('musk', 1635), ('vanilla', 1299), ('amber', 1299), ('sandalwood', 1253), ('patchouli', 1212)]\n"
     ]
    }
   ],
   "source": [
    "from collections import Counter\n",
    "\n",
    "# Top note freq counter\n",
    "top_note_counts = Counter(tn for top_note in noon_bin['Top Note'] for tn in top_note)\n",
    "print(f\"There are {len(top_note_counts)} Top note labels.\")\n",
    "\n",
    "# middle note freq counter\n",
    "middle_note_counts = Counter(mn for middle_note in noon_bin['Heart/Middle Note'] for mn in middle_note)\n",
    "print(f\"There are {len(middle_note_counts)} Heart/Middle note labels.\")\n",
    "\n",
    "\n",
    "# base note freq counter\n",
    "base_note_counts = Counter(bn for base_note in noon_bin['Base Note'] for bn in base_note)\n",
    "print(f\"There are {len(base_note_counts)} base note labels.\")\n",
    "\n",
    "# popularity freq counter\n",
    "pop_counter=Counter(noon_bin[noon_bin['Popularity'].notnull()]['Popularity'])\n",
    "print(f\"There are {len(base_note_counts)} popularity labels.\")\n",
    "\n",
    "print(\"Example of base notes counter:\",base_note_counts.most_common(5))"
   ]
  },
  {
   "cell_type": "code",
   "execution_count": 12,
   "id": "2707a774",
   "metadata": {},
   "outputs": [
    {
     "name": "stdout",
     "output_type": "stream",
     "text": [
      "There are 451 Top note labels.\n",
      "There are 651 Heart/Middle note labels.\n",
      "There are 521 base note labels.\n"
     ]
    }
   ],
   "source": [
    "from itertools import dropwhile\n",
    "# drop any note that has not been repeated at least once, because for our recommendation system to work we need at least 2\n",
    "# frequencies of a note to make the recommendation\n",
    "\n",
    "# top notes\n",
    "for key, count in dropwhile(lambda key_count: key_count[1] >= 2, top_note_counts.most_common()):\n",
    "    del top_note_counts[key]\n",
    "\n",
    "# middle notes\n",
    "for key, count in dropwhile(lambda key_count: key_count[1] >= 2, middle_note_counts.most_common()):\n",
    "    del middle_note_counts[key]\n",
    "    \n",
    "# base notes    \n",
    "for key, count in dropwhile(lambda key_count: key_count[1] >= 2, base_note_counts.most_common()):\n",
    "    del base_note_counts[key]\n",
    "    \n",
    "print(f\"There are {len(top_note_counts)} Top note labels.\")\n",
    "print(f\"There are {len(middle_note_counts)} Heart/Middle note labels.\")\n",
    "print(f\"There are {len(base_note_counts)} base note labels.\")"
   ]
  },
  {
   "cell_type": "code",
   "execution_count": 13,
   "id": "1ae43fc2",
   "metadata": {},
   "outputs": [],
   "source": [
    "# this is to handle the null values that were replaced by an empty string\n",
    "del top_note_counts['']\n",
    "del middle_note_counts['']\n",
    "del base_note_counts['']"
   ]
  },
  {
   "cell_type": "code",
   "execution_count": 14,
   "id": "dc214147",
   "metadata": {},
   "outputs": [
    {
     "name": "stdout",
     "output_type": "stream",
     "text": [
      "The 5 most common top notes: \n",
      " [('bergamot', 684), ('lemon', 264), ('pinkpepper', 161), ('grapefruit', 157), ('mandarinorange', 156)]\n",
      "----------------------------------------------------------------------------------------------------\n",
      "The 5 most common middle notes: \n",
      " [('jasmine', 1256), ('rose', 1053), ('lily', 385), ('orangeblossom', 373), ('patchouli', 350)]\n",
      "----------------------------------------------------------------------------------------------------\n",
      "The 5 most common base notes: \n",
      " [('musk', 1635), ('vanilla', 1299), ('amber', 1299), ('sandalwood', 1253), ('patchouli', 1212)]\n"
     ]
    }
   ],
   "source": [
    "# Top 5 most common top notes\n",
    "print(\"The 5 most common top notes: \\n\", top_note_counts.most_common(5))\n",
    "print('--'*50)\n",
    "# Top 5 most common middle notes\n",
    "print(\"The 5 most common middle notes: \\n\", middle_note_counts.most_common(5))\n",
    "print('--'*50)\n",
    "# Top 5 most common base notes\n",
    "print(\"The 5 most common base notes: \\n\", base_note_counts.most_common(5))"
   ]
  },
  {
   "cell_type": "code",
   "execution_count": 15,
   "id": "5a78237a",
   "metadata": {},
   "outputs": [
    {
     "name": "stdout",
     "output_type": "stream",
     "text": [
      "Top notes Binary matrix \n",
      "rows:  5192 \n",
      "columns:  450\n",
      "----------------------------------------------------------------------------------------------------\n",
      "Middle notes Binary matrix \n",
      "rows:  5192 \n",
      "columns:  650\n",
      "----------------------------------------------------------------------------------------------------\n",
      "Base notes Binary matrix \n",
      "rows:  5192 \n",
      "columns:  520\n",
      "----------------------------------------------------------------------------------------------------\n",
      "Popularity Binary matrix \n",
      "rows:  5192 \n",
      "columns:  144\n"
     ]
    }
   ],
   "source": [
    "# we need to create a binary matrix for the selected features, where the rows represent each perfume and the columns \n",
    "# represent the features, 1 means this perfume has this note and 0 means it does not\n",
    "\n",
    "#-------------------------------------- TOP NOTE--------------------------------------#\n",
    "\n",
    "top_notes = list(top_note_counts.keys())\n",
    "\n",
    "# create the binary matrix for top notes\n",
    "for tn in top_notes:\n",
    "    noon_bin[tn] = noon_bin['Top Note'].transform(lambda x: int(tn in x))\n",
    "    \n",
    "#-------------------------------------- MIDDLE NOTE-----------------------------------#\n",
    "\n",
    "middle_notes = list(middle_note_counts.keys())\n",
    "\n",
    "# create the binary matrix for middle notes\n",
    "for mn in middle_notes:\n",
    "    noon_bin[mn] = noon_bin['Heart/Middle Note'].transform(lambda x: int(mn in x))\n",
    "#-------------------------------------- BASE NOTE-------------------------------------#\n",
    "\n",
    "base_notes = list(base_note_counts.keys())\n",
    "\n",
    "# create the binary matrix for base notes\n",
    "for bn in base_notes:\n",
    "    noon_bin[bn] = noon_bin['Base Note'].transform(lambda x: int(bn in x))\n",
    "    \n",
    "    \n",
    "popularity_keys=list(pop_counter.keys())\n",
    "# create the binary matrix for base notes\n",
    "for pop in popularity_keys:\n",
    "    noon_bin[pop] = noon_bin['Popularity'].transform(lambda x: int(pop in x))\n",
    "\n",
    "\n",
    "#--------------------------------------POPULARITY-------------------------------------#\n",
    "popularity_keys=list(pop_counter.keys())\n",
    "\n",
    "# create the binary matrix for popularity\n",
    "for pop in popularity_keys:\n",
    "    noon_bin[pop] = noon_bin['Popularity'].transform(lambda x: int(pop in x))\n",
    "\n",
    "\n",
    "print('Top notes Binary matrix \\nrows: ', noon_bin[top_notes].shape[0], '\\ncolumns: ',noon_bin[top_notes].shape[1])\n",
    "print('--'*50)\n",
    "print('Middle notes Binary matrix \\nrows: ', noon_bin[middle_notes].shape[0], '\\ncolumns: ',noon_bin[middle_notes].shape[1])\n",
    "print('--'*50)\n",
    "print('Base notes Binary matrix \\nrows: ', noon_bin[base_notes].shape[0], '\\ncolumns: ',noon_bin[base_notes].shape[1])\n",
    "print('--'*50)\n",
    "print('Popularity Binary matrix \\nrows: ', noon_bin[popularity_keys].shape[0], '\\ncolumns: ',noon_bin[popularity_keys].shape[1])"
   ]
  },
  {
   "cell_type": "code",
   "execution_count": 16,
   "id": "711f824d",
   "metadata": {},
   "outputs": [],
   "source": [
    "# save the binary matrix in a new variable\n",
    "\n",
    "# top note\n",
    "perfume_features_TN = noon_bin[top_notes]\n",
    "\n",
    "# middle note\n",
    "perfume_features_MN = noon_bin[middle_notes]\n",
    "\n",
    "# base note\n",
    "perfume_features_BN = noon_bin[base_notes]\n",
    "\n",
    "# popularity\n",
    "popularity_features_BN = noon_bin[popularity_keys]"
   ]
  },
  {
   "cell_type": "code",
   "execution_count": 17,
   "id": "8ad0620e",
   "metadata": {},
   "outputs": [],
   "source": [
    "# concat all the notes to get all features\n",
    "perfume_features_pop = pd.concat([perfume_features_TN,perfume_features_MN,perfume_features_BN,popularity_features_BN], axis=1)\n",
    "perfume_features=pd.concat([perfume_features_TN,perfume_features_MN,perfume_features_BN], axis=1)"
   ]
  },
  {
   "cell_type": "code",
   "execution_count": 18,
   "id": "3240e40f",
   "metadata": {},
   "outputs": [
    {
     "name": "stdout",
     "output_type": "stream",
     "text": [
      "Dimensions of our perfume features (All Notes) cosine similarity matrix: (5192, 5192)\n",
      "Dimensions of our perfume features (All Notes+Pop) cosine similarity matrix: (5192, 5192)\n",
      "Dimensions of our perfume features (Top Notes) cosine similarity matrix: (5192, 5192)\n",
      "Dimensions of our perfume features (Middle Notes) cosine similarity matrix: (5192, 5192)\n",
      "Dimensions of our perfume features (Base Notes) cosine similarity matrix: (5192, 5192)\n"
     ]
    }
   ],
   "source": [
    "from sklearn.metrics.pairwise import cosine_similarity\n",
    "\n",
    "# create a cosine similarity matrix using the binary matrix\n",
    "# all \n",
    "cosine_sim_All = cosine_similarity(perfume_features, perfume_features)\n",
    "print(f\"Dimensions of our perfume features (All Notes) cosine similarity matrix: {cosine_sim_All.shape}\")\n",
    "\n",
    "# All note+popularity\n",
    "cosine_sim_All_pop = cosine_similarity(perfume_features_pop, perfume_features_pop)\n",
    "print(f\"Dimensions of our perfume features (All Notes+Pop) cosine similarity matrix: {cosine_sim_All_pop.shape}\")\n",
    "\n",
    "# top note\n",
    "cosine_sim_TN = cosine_similarity(perfume_features_TN, perfume_features_TN)\n",
    "print(f\"Dimensions of our perfume features (Top Notes) cosine similarity matrix: {cosine_sim_TN.shape}\")\n",
    "\n",
    "# middle note\n",
    "cosine_sim_MN = cosine_similarity(perfume_features_MN, perfume_features_MN)\n",
    "print(f\"Dimensions of our perfume features (Middle Notes) cosine similarity matrix: {cosine_sim_MN.shape}\")\n",
    "\n",
    "# base note\n",
    "cosine_sim_BN = cosine_similarity(perfume_features_BN, perfume_features_BN)\n",
    "print(f\"Dimensions of our perfume features (Base Notes) cosine similarity matrix: {cosine_sim_BN.shape}\")"
   ]
  },
  {
   "cell_type": "code",
   "execution_count": 19,
   "id": "aa6a8490",
   "metadata": {},
   "outputs": [],
   "source": [
    "from fuzzywuzzy import process\n",
    "\n",
    "# using the fuzzy wuzzy package, we can get the exact name of the perfume even if its misspelled \n",
    "def perfume_finder(name):\n",
    "    all_names = noon_clean['name'].tolist()\n",
    "    closest_match = process.extractOne(name,all_names)\n",
    "    return closest_match[0]"
   ]
  },
  {
   "cell_type": "code",
   "execution_count": 20,
   "id": "7c844043",
   "metadata": {
    "scrolled": true
   },
   "outputs": [],
   "source": [
    "# we need to get the index of the 'Azurl' perfume in the cosine sim matrix to find recommendations for it\n",
    "\n",
    "# this is a dictionary where the keys are perfume names and the values are perfume indices\n",
    "perfume_idx = dict(zip(noon_bin['name'], list(noon_bin.index)))"
   ]
  },
  {
   "cell_type": "code",
   "execution_count": 21,
   "id": "0fed9d4f",
   "metadata": {},
   "outputs": [],
   "source": [
    "# this function takes the name of the perfume and how many recommendations and returns them both\n",
    "def get_content_based_recommendations(name_string, note_type, rec_type='match',depart_filter='off' ):\n",
    "    name = perfume_finder(name_string)\n",
    "    idx = perfume_idx[name]\n",
    "    rec_list=[]\n",
    "    better_rec=[]  \n",
    "    selected_depart=noon_clean[noon_clean['name']==name]['Department'].values[0]\n",
    "    n_recommendations=30\n",
    "\n",
    "    # for base note \n",
    "    if note_type == 'base':\n",
    "        \n",
    "        sim_scores = list(enumerate(cosine_sim_BN[idx]))\n",
    "        sim_scores = sorted(sim_scores, key=lambda x: x[1], reverse=True)\n",
    "        sim_scores = sim_scores[1:(n_recommendations+1)]\n",
    "        similar_perfumes = [i[0] for i in sim_scores]      \n",
    "        list_names=list(noon_bin['name'].iloc[similar_perfumes])\n",
    "        for i in list_names: \n",
    "            rec_depart=noon_clean[noon_clean['name']==i]['Department'].values[0]\n",
    "            if(rec_depart==selected_depart):\n",
    "                better_rec.append(i)\n",
    "                \n",
    "        rec_list=list(noon_bin['name'].iloc[similar_perfumes])\n",
    "\n",
    "    # for top note\n",
    "    elif note_type == 'top': \n",
    "        \n",
    "        sim_scores_t = list(enumerate(cosine_sim_TN[idx]))\n",
    "        sim_scores_t = sorted(sim_scores_t, key=lambda x: x[1], reverse=True)\n",
    "        sim_scores_t = sim_scores_t[1:(n_recommendations+1)]\n",
    "        similar_perfumes_t = [i[0] for i in sim_scores_t]       \n",
    "        list_names=list(noon_bin['name'].iloc[similar_perfumes_t])\n",
    "        for i in list_names: \n",
    "            rec_depart=noon_clean[noon_clean['name']==i]['Department'].values[0]\n",
    "            if(rec_depart==selected_depart):\n",
    "                better_rec.append(i)\n",
    "        \n",
    "        rec_list=list(noon_bin['name'].iloc[similar_perfumes_t])\n",
    "        \n",
    "    # for middle note    \n",
    "    elif note_type == 'middle': \n",
    "        \n",
    "        sim_scores_m = list(enumerate(cosine_sim_MN[idx]))\n",
    "        sim_scores_m = sorted(sim_scores_m, key=lambda x: x[1], reverse=True)\n",
    "        sim_scores_m = sim_scores_m[1:(n_recommendations+1)]\n",
    "        similar_perfumes_m = [i[0] for i in sim_scores_m]\n",
    "        list_names=list(noon_bin['name'].iloc[similar_perfumes_m])\n",
    "        for i in list_names: \n",
    "            rec_depart=noon_clean[noon_clean['name']==i]['Department'].values[0]\n",
    "            if(rec_depart==selected_depart):\n",
    "                better_rec.append(i)\n",
    "        rec_list=list(noon_bin['name'].iloc[similar_perfumes_m])\n",
    "        \n",
    "    # for all note    \n",
    "    elif note_type == 'all_pop': \n",
    "        \n",
    "        sim_scores_a = list(enumerate(cosine_sim_All_pop[idx]))\n",
    "        sim_scores_a = sorted(sim_scores_a, key=lambda x: x[1], reverse=True)\n",
    "        sim_scores_a = sim_scores_a[1:(n_recommendations+1)]\n",
    "        similar_perfumes_a = [i[0] for i in sim_scores_a]\n",
    "        list_names=list(noon_bin['name'].iloc[similar_perfumes_a])\n",
    "        for i in list_names: \n",
    "            rec_depart=noon_clean[noon_clean['name']==i]['Department'].values[0]\n",
    "            if(rec_depart==selected_depart):\n",
    "                better_rec.append(i)\n",
    "        rec_list=list(noon_bin['name'].iloc[similar_perfumes_a])\n",
    "        \n",
    "    # for all note    \n",
    "    elif note_type == 'all': \n",
    "        \n",
    "        sim_scores_a2 = list(enumerate(cosine_sim_All[idx]))\n",
    "        sim_scores_a2 = sorted(sim_scores_a2, key=lambda x: x[1], reverse=True)\n",
    "        sim_scores_a2 = sim_scores_a2[1:(n_recommendations+1)]\n",
    "        similar_perfumes_a2 = [i[0] for i in sim_scores_a2]\n",
    "        list_names=list(noon_bin['name'].iloc[similar_perfumes_a2])\n",
    "        for i in list_names: \n",
    "            rec_depart=noon_clean[noon_clean['name']==i]['Department'].values[0]\n",
    "            if(rec_depart==selected_depart):\n",
    "                better_rec.append(i)        \n",
    "        rec_list=list(noon_bin['name'].iloc[similar_perfumes_a2])\n",
    "        \n",
    "    if(depart_filter=='on'):\n",
    "        if(rec_type=='match'):\n",
    "            better_rec=better_rec[0]\n",
    "        elif(rec_type=='complement'):\n",
    "            better_rec=better_rec[0:3]\n",
    "    elif(depart_filter=='off'):\n",
    "        if(rec_type=='match'):\n",
    "            better_rec=rec_list[0]\n",
    "        elif(rec_type=='complement'):\n",
    "            better_rec=rec_list[0:3]\n",
    "            \n",
    "    return better_rec"
   ]
  },
  {
   "cell_type": "markdown",
   "id": "da479635",
   "metadata": {},
   "source": [
    "## TF IDF cos sim model\n",
    "It is a content based recommender system that uses tf-idf and cosine similarity for N Most SImilar Items from a dataset"
   ]
  },
  {
   "cell_type": "code",
   "execution_count": 22,
   "id": "a94b3e3f",
   "metadata": {},
   "outputs": [],
   "source": [
    "from sklearn.feature_extraction.text import TfidfVectorizer\n",
    "from sklearn.metrics.pairwise import linear_kernel"
   ]
  },
  {
   "cell_type": "code",
   "execution_count": 23,
   "id": "e263db53",
   "metadata": {
    "scrolled": true
   },
   "outputs": [],
   "source": [
    "# get copy to work with cos sim and TFIDF matrix\n",
    "noon_tfidf=noon_clean.copy()"
   ]
  },
  {
   "cell_type": "code",
   "execution_count": 24,
   "id": "d012659d",
   "metadata": {
    "scrolled": true
   },
   "outputs": [],
   "source": [
    "# get TF IDF of the base note column\n",
    "tf = TfidfVectorizer(analyzer='word', ngram_range=(1, 3), min_df=0, stop_words='english')\n",
    "tfidf_matrix = tf.fit_transform(noon_tfidf['Base Note'])"
   ]
  },
  {
   "cell_type": "code",
   "execution_count": 25,
   "id": "dd9ef934",
   "metadata": {},
   "outputs": [],
   "source": [
    "cosine_similarities = linear_kernel(tfidf_matrix, tfidf_matrix)\n",
    "#cosine_similarities"
   ]
  },
  {
   "cell_type": "code",
   "execution_count": 26,
   "id": "fe3c8d88",
   "metadata": {},
   "outputs": [],
   "source": [
    "# this function takes the name of the perfume and how many recommendations and returns them both\n",
    "def get_TFIDF_recommendations(name_string, n_recommendations=10):\n",
    "    name = perfume_finder(name_string)\n",
    "    idx = perfume_idx[name]\n",
    "    sim_scores = list(enumerate(cosine_similarities[idx]))\n",
    "    sim_scores = sorted(sim_scores, key=lambda x: x[1], reverse=True)\n",
    "    sim_scores = sim_scores[1:(n_recommendations+1)]\n",
    "    similar_perfumes = [i[0] for i in sim_scores]\n",
    "    rec_list=list(noon_tfidf['name'].iloc[similar_perfumes])\n",
    "    return rec_list"
   ]
  },
  {
   "cell_type": "markdown",
   "id": "2c8d6c6f",
   "metadata": {},
   "source": [
    "## Evaluation using coverage"
   ]
  },
  {
   "cell_type": "code",
   "execution_count": 27,
   "id": "c99925d2",
   "metadata": {
    "scrolled": true
   },
   "outputs": [],
   "source": [
    "test = noon_clean.copy()\n",
    "test=test[['name','Department']]"
   ]
  },
  {
   "cell_type": "code",
   "execution_count": 28,
   "id": "89c1e21d",
   "metadata": {},
   "outputs": [],
   "source": [
    "# get 100 random samples\n",
    "test=test.iloc[0:99]"
   ]
  },
  {
   "cell_type": "code",
   "execution_count": 29,
   "id": "71577340",
   "metadata": {},
   "outputs": [],
   "source": [
    "#make recommendations for all perfumes in the test data\n",
    "\n",
    "ran_recs = []\n",
    "for name in test.name:\n",
    "    random_predictions = noon_clean.name.sample(3).values.tolist()\n",
    "    ran_recs.append(random_predictions)\n",
    "        \n",
    "test['random_predictions'] = ran_recs"
   ]
  },
  {
   "cell_type": "code",
   "execution_count": 30,
   "id": "9bdec08a",
   "metadata": {},
   "outputs": [],
   "source": [
    "#make recommendations for all perfumes in the test data\n",
    "\n",
    "cos_ALL_recs = []\n",
    "for name in test.name:\n",
    "    cos_ALL_predictions = get_content_based_recommendations(name,'all','complement','off')\n",
    "    cos_ALL_recs.append(cos_ALL_predictions)\n",
    "        \n",
    "test['cos_ALL_predictions'] = cos_ALL_recs"
   ]
  },
  {
   "cell_type": "code",
   "execution_count": 31,
   "id": "eccfdbc1",
   "metadata": {},
   "outputs": [],
   "source": [
    "#make recommendations for all perfumes in the test data\n",
    "\n",
    "cos_ALL_POP_recs = []\n",
    "for name in test.name:\n",
    "    cos_ALL_POP_predictions = get_content_based_recommendations(name,'all_pop','complement','off') \n",
    "    cos_ALL_POP_recs.append(cos_ALL_POP_predictions)\n",
    "        \n",
    "test['cos_ALL_POP_predictions'] = cos_ALL_POP_recs"
   ]
  },
  {
   "cell_type": "code",
   "execution_count": 32,
   "id": "0fed3954",
   "metadata": {},
   "outputs": [],
   "source": [
    "#make recommendations for all perfumes in the test data\n",
    "\n",
    "cos_BN_recs = []\n",
    "for name in test.name:\n",
    "    cos_BN_predictions = get_content_based_recommendations(name,'base','complement','off') \n",
    "    cos_BN_recs.append(cos_BN_predictions)\n",
    "        \n",
    "test['cos_BN_predictions'] = cos_BN_recs"
   ]
  },
  {
   "cell_type": "code",
   "execution_count": 33,
   "id": "27cb5842",
   "metadata": {},
   "outputs": [],
   "source": [
    "#make recommendations for all perfumes in the test data\n",
    "\n",
    "cos_MN_recs = []\n",
    "for name in test.name:\n",
    "    cos_MN_predictions = get_content_based_recommendations(name,'middle','complement','off')\n",
    "    cos_MN_recs.append(cos_MN_predictions)\n",
    "        \n",
    "test['cos_MN_predictions'] = cos_MN_recs"
   ]
  },
  {
   "cell_type": "code",
   "execution_count": 34,
   "id": "69d68a58",
   "metadata": {},
   "outputs": [],
   "source": [
    "#make recommendations for all perfumes in the test data\n",
    "\n",
    "cos_TN_recs = []\n",
    "for name in test.name:\n",
    "    cos_TN_predictions = get_content_based_recommendations(name,'top','complement','off') \n",
    "    cos_TN_recs.append(cos_TN_predictions)\n",
    "        \n",
    "test['cos_TN_predictions'] = cos_TN_recs"
   ]
  },
  {
   "cell_type": "code",
   "execution_count": 35,
   "id": "882244ad",
   "metadata": {},
   "outputs": [],
   "source": [
    "#make recommendations for all perfumes in the test data\n",
    "\n",
    "tfidf_recs = []\n",
    "for name in test.name:\n",
    "    tfidf_predictions = get_TFIDF_recommendations(name,3)\n",
    "    tfidf_recs.append(tfidf_predictions)\n",
    "        \n",
    "test['tfidf_sim_predictions'] = tfidf_recs"
   ]
  },
  {
   "cell_type": "code",
   "execution_count": 36,
   "id": "fa30ad09",
   "metadata": {},
   "outputs": [],
   "source": [
    "# I divided by 3 because each rec system will give 3 recommendations per record\n",
    "catalog = test.name.unique().tolist()\n",
    "random_coverage = (recmetrics.coverage(ran_recs, catalog))/3\n",
    "tfidf_coverage = (recmetrics.coverage(tfidf_recs, catalog))/3\n",
    "cos_BN_coverage = (recmetrics.coverage(cos_BN_recs, catalog))/3\n",
    "cos_ALL_POP_coverage = (recmetrics.coverage(cos_ALL_POP_recs, catalog))/3\n",
    "cos_TN_coverage = (recmetrics.coverage(cos_TN_recs, catalog))/3\n",
    "cos_MN_coverage = (recmetrics.coverage(cos_MN_recs, catalog))/3\n",
    "cos_ALL_coverage = (recmetrics.coverage(cos_ALL_recs, catalog))/3\n"
   ]
  },
  {
   "cell_type": "code",
   "execution_count": 37,
   "id": "a6b2a830",
   "metadata": {},
   "outputs": [
    {
     "name": "stdout",
     "output_type": "stream",
     "text": [
      "Coverage % of random reccomends for 5192 records: 113.73%\n",
      "\n",
      "Coverage % of cosine sim reccomends using TFIDF factorization and base notes for 100 records: 80.78%\n",
      "\n",
      "Coverage % of cosine sim reccomends using binary matrix and base notes for 100 records: 77.65%\n",
      "\n",
      "Coverage % of cosine sim reccomends using binary matrix and all+Popularity  notes for 100 records: 85.1%\n",
      "\n",
      "Coverage % of cosine sim reccomends using binary matrix and all notes for 100 records: 79.22%\n",
      "\n",
      "Coverage % of cosine sim reccomends using binary matrix and middle notes for 100 records: 78.04%\n",
      "\n",
      "Coverage % of cosine sim reccomends using binary matrix and top notes for 100 records: 78.43%\n",
      "\n"
     ]
    }
   ],
   "source": [
    "print(f\"Coverage % of random reccomends for 5192 records: {round(random_coverage,2)}%\\n\")\n",
    "print(f\"Coverage % of cosine sim reccomends using TFIDF factorization and base notes for 100 records: {round(tfidf_coverage,2)}%\\n\")\n",
    "print(f\"Coverage % of cosine sim reccomends using binary matrix and base notes for 100 records: {round(cos_BN_coverage,2)}%\\n\")\n",
    "print(f\"Coverage % of cosine sim reccomends using binary matrix and all+Popularity  notes for 100 records: {round(cos_ALL_POP_coverage,2)}%\\n\")\n",
    "print(f\"Coverage % of cosine sim reccomends using binary matrix and all notes for 100 records: {round(cos_ALL_coverage,2)}%\\n\")\n",
    "print(f\"Coverage % of cosine sim reccomends using binary matrix and middle notes for 100 records: {round(cos_MN_coverage,2)}%\\n\")\n",
    "print(f\"Coverage % of cosine sim reccomends using binary matrix and top notes for 100 records: {round(cos_TN_coverage,2)}%\\n\")\n"
   ]
  },
  {
   "cell_type": "code",
   "execution_count": 38,
   "id": "c693aa3f",
   "metadata": {},
   "outputs": [
    {
     "data": {
      "image/png": "[encoded data removed]",
      "text/plain": [
       "<Figure size 504x360 with 1 Axes>"
      ]
     },
     "metadata": {
      "needs_background": "light"
     },
     "output_type": "display_data"
    }
   ],
   "source": [
    "# plot of prediction coverage\n",
    "coverage_scores = [random_coverage, tfidf_coverage,cos_BN_coverage,cos_MN_coverage,cos_TN_coverage,cos_ALL_POP_coverage,cos_ALL_coverage]\n",
    "model_names = ['Random', 'TFIDF BN','Cos BN','Cos MN','Cos TN',\"Cos All+POP\",'Cos All']\n",
    "\n",
    "fig = plt.figure(figsize=(7, 5))\n",
    "recmetrics.coverage_plot(coverage_scores, model_names)"
   ]
  },
  {
   "cell_type": "code",
   "execution_count": null,
   "id": "51b38bc8",
   "metadata": {},
   "outputs": [],
   "source": []
  },
  {
   "cell_type": "code",
   "execution_count": null,
   "id": "e3ebf8ca",
   "metadata": {},
   "outputs": [],
   "source": []
  }
 ],
 "metadata": {
  "kernelspec": {
   "display_name": "Python 3",
   "language": "python",
   "name": "python3"
  },
  "language_info": {
   "codemirror_mode": {
    "name": "ipython",
    "version": 3
   },
   "file_extension": ".py",
   "mimetype": "text/x-python",
   "name": "python",
   "nbconvert_exporter": "python",
   "pygments_lexer": "ipython3",
   "version": "3.8.8"
  }
 },
 "nbformat": 4,
 "nbformat_minor": 5
}
